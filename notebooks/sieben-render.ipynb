{
 "cells": [
  {
   "cell_type": "markdown",
   "metadata": {},
   "source": [
    "# SiebenApp Rendering v3.0"
   ]
  },
  {
   "cell_type": "code",
   "execution_count": 1,
   "metadata": {},
   "outputs": [],
   "source": [
    "# Rendering defaults\n",
    "WIDTH = 3"
   ]
  },
  {
   "cell_type": "code",
   "execution_count": 2,
   "metadata": {},
   "outputs": [],
   "source": [
    "import matplotlib.pyplot as plt\n",
    "from typing import Dict, List, Set"
   ]
  },
  {
   "cell_type": "code",
   "execution_count": 3,
   "metadata": {},
   "outputs": [],
   "source": [
    "from dataclasses import dataclass, field, replace\n",
    "from enum import IntEnum\n",
    "from typing import Any, Union, Optional"
   ]
  },
  {
   "cell_type": "code",
   "execution_count": 4,
   "metadata": {},
   "outputs": [],
   "source": [
    "# One of two supported edge types\n",
    "class EdgeType(IntEnum):\n",
    "    BLOCKER = 1\n",
    "    PARENT = 2\n",
    "\n",
    "# Edge between two goals (wow, it doesn't use GoalId, right?)\n",
    "@dataclass(frozen=True)\n",
    "class Edge:\n",
    "    source: int\n",
    "    target: int\n",
    "    type: EdgeType\n",
    "\n",
    "# For leegacy reasons, goal id may be either integer (real or pseudo goal) or string (pseudo goal only)\n",
    "GoalId = Union[str, int]\n",
    "\n",
    "# Single row of \"render result\" (well, actually, it's a single goal)\n",
    "@dataclass(frozen=True)\n",
    "class RenderRow:\n",
    "    \"\"\"Strongly typed rendered representation of a single goal.\"\"\"\n",
    "\n",
    "    goal_id: GoalId\n",
    "    raw_id: int\n",
    "    name: str\n",
    "    is_open: bool\n",
    "    is_switchable: bool\n",
    "    edges: list[tuple[GoalId, EdgeType]]\n",
    "    attrs: dict[str, str] = field(default_factory=lambda: {})\n",
    "\n",
    "# A whole result of \"rendering\" (also suitable for result returned by a single request to goal tree)\n",
    "@dataclass\n",
    "class RenderResult:\n",
    "    rows: list[RenderRow]\n",
    "    edge_opts: dict[str, tuple[int, int, int]]\n",
    "    select: tuple[GoalId, GoalId]\n",
    "    node_opts: dict[GoalId, Any]\n",
    "    roots: set[GoalId]\n",
    "    index: dict[GoalId, int]\n",
    "\n",
    "    def __init__(\n",
    "        self,\n",
    "        rows: list[RenderRow],\n",
    "        edge_opts: Optional[dict[str, tuple[int, int, int]]] = None,\n",
    "        select: Optional[tuple[GoalId, GoalId]] = None,\n",
    "        node_opts: Optional[dict[GoalId, Any]] = None,\n",
    "        roots: Optional[set[GoalId]] = None,\n",
    "    ):\n",
    "        self.rows = rows\n",
    "        self.edge_opts = edge_opts or {}\n",
    "        self.select = select or (0, 0)\n",
    "        self.node_opts = node_opts or {}\n",
    "        self.roots = roots or set()\n",
    "        self.index = {row.goal_id: i for i, row in enumerate(rows)}\n",
    "\n",
    "    def goals(self):\n",
    "        return [\n",
    "            (goal_id, attrs)\n",
    "            for goal_id, attrs in self.node_opts.items()\n",
    "            if isinstance(goal_id, int)\n",
    "        ]\n",
    "\n",
    "    def by_id(self, goal_id: GoalId) -> RenderRow:\n",
    "        assert goal_id in self.index\n",
    "        return self.rows[self.index[goal_id]]\n"
   ]
  },
  {
   "cell_type": "code",
   "execution_count": 5,
   "metadata": {},
   "outputs": [],
   "source": [
    "def draw1(rr: RenderResult, min_row: int = 0) -> None:\n",
    "    xpos: Dict[int, int] = {}\n",
    "    ypos: Dict[int, int] = {}\n",
    "    for goal_id, attrs in rr.goals():\n",
    "        row, col = attrs.get(\"row\", None), attrs.get(\"col\", None)\n",
    "        # print(goal_id, row, col)\n",
    "        xpos[goal_id] = col if col is not None else randint(0, 10)\n",
    "        ypos[goal_id] = row if row is not None else randint(min_row, 10) \n",
    "    # print(xpos)\n",
    "    # print(ypos)\n",
    "    for row in rr.rows:\n",
    "        row_id = row.goal_id\n",
    "        for edge in row.edges:\n",
    "            e = edge[0]\n",
    "            plt.plot([xpos[row_id], xpos[e]], [ypos[row_id], ypos[e]], 'ro-')\n",
    "        plt.text(xpos[row_id] + 0.1, ypos[row_id], row.name)\n",
    "    tops = [row.goal_id for row in rr.rows if row.is_switchable]\n",
    "    plt.plot([xpos[t] for t in tops], [ypos[t] for t in tops], 'bo')\n",
    "    plt.draw()"
   ]
  },
  {
   "cell_type": "code",
   "execution_count": 6,
   "metadata": {},
   "outputs": [],
   "source": [
    "def add_if_not(m: Dict, m1: Dict) -> Dict:\n",
    "    nm = dict(m)\n",
    "    for k, v in m1.items():\n",
    "        if nm.get(k, None) is None:\n",
    "            nm[k] = v\n",
    "    return nm\n",
    "\n",
    "def tube1(rr: RenderResult, roots: List[int], layers: List[List[int]]):\n",
    "    new_layer: List[int] = roots[:WIDTH]\n",
    "    new_roots: List[int] = roots[len(new_layer):] + [e[0] for gid in new_layer for e in rr.by_id(gid).edges]\n",
    "    new_opts: Dict[int, Dict] = {\n",
    "        goal_id: add_if_not(opts, {\n",
    "            \"row\": len(layers) if goal_id in new_layer else None,\n",
    "            \"col\": new_layer.index(goal_id) if goal_id in new_layer else None\n",
    "        })\n",
    "        for goal_id, opts in rr.node_opts.items()\n",
    "    }\n",
    "    \n",
    "    return RenderResult(rr.rows, node_opts=new_opts, select=rr.select, roots=rr.roots), new_roots, layers + [new_layer]"
   ]
  },
  {
   "cell_type": "code",
   "execution_count": 7,
   "metadata": {},
   "outputs": [],
   "source": [
    "def split_to_layers(rr: RenderResult) -> RenderResult:\n",
    "    roots = list(rr.roots)\n",
    "    layers = []\n",
    "    while roots:\n",
    "        rr, roots, layers = tube1(rr, roots, layers)\n",
    "    return rr"
   ]
  },
  {
   "cell_type": "code",
   "execution_count": 8,
   "metadata": {},
   "outputs": [],
   "source": [
    "def avg(vals):\n",
    "    return sum(vals) / len(vals)\n",
    "\n",
    "def shift_neutral(ds):\n",
    "    return avg([d[1] for d in ds])\n",
    "\n",
    "def calc_shift(rr: RenderResult, shift_fn):\n",
    "    connected: Dict[int, Set[int]] = {row.goal_id: set() for row in rr.rows}\n",
    "    for row in rr.rows:\n",
    "        for e in row.edges:\n",
    "            connected[e[0]].add(row.goal_id)\n",
    "            connected[row.goal_id].add(e[0])\n",
    "\n",
    "    result = {}\n",
    "    for row in rr.rows:\n",
    "        goal_id = row.goal_id\n",
    "        opts = rr.node_opts[goal_id]\n",
    "        row_, col_ = opts['row'], opts['col']\n",
    "        deltas = [\n",
    "            (rr.node_opts[c]['row'] - row_,\n",
    "             rr.node_opts[c]['col'] - col_)\n",
    "            for c in connected[goal_id]\n",
    "        ]\n",
    "        result[goal_id] = shift_fn(deltas)\n",
    "    return result"
   ]
  },
  {
   "cell_type": "code",
   "execution_count": 9,
   "metadata": {},
   "outputs": [],
   "source": [
    "def adjust_horisontal(rr: RenderResult, mult):\n",
    "    deltas = calc_shift(rr, shift_neutral)\n",
    "    new_opts = {\n",
    "        goal_id: opts | {\"col\": opts[\"col\"] + (mult * deltas[goal_id])}\n",
    "        for goal_id, opts in rr.node_opts.items()\n",
    "    }\n",
    "    return RenderResult(\n",
    "        rr.rows,\n",
    "        node_opts=new_opts,\n",
    "        select=rr.select,\n",
    "        roots=rr.roots\n",
    "    )"
   ]
  },
  {
   "cell_type": "code",
   "execution_count": 10,
   "metadata": {},
   "outputs": [],
   "source": [
    "def normalize_cols(rr: RenderResult) -> RenderResult:\n",
    "    order0 = {}\n",
    "    for goal_id, opts in rr.node_opts.items():\n",
    "        row, col = opts[\"row\"], opts[\"col\"]\n",
    "        if row not in order0:\n",
    "            order0[row] = []\n",
    "        order0[row].append((col, goal_id))\n",
    "    # print(\"order0: \", order0)\n",
    "    order1 = {}\n",
    "    for layer, tuples in order0.items():\n",
    "        non_empty = list(round(t[0]) for t in tuples)\n",
    "        need_drop = len(tuples) - len(set(non_empty))\n",
    "        empty = {x for x in range(WIDTH)}.difference(non_empty)\n",
    "        for i in range(need_drop):\n",
    "            empty.pop()\n",
    "        # print(f\"{layer}: non-empty {non_empty}, empty {empty}, dropped {need_drop}\")\n",
    "        order1[layer] = tuples + [(e, -10) for e in empty]\n",
    "    # print(\"order1: \", order1)\n",
    "    order2 = {k: sorted(v) for k, v in order1.items()}\n",
    "    # print(\"order2: \", order2)\n",
    "    indexed0 = {k: [t[1] for t in v] for k, v in order2.items()}\n",
    "    # print(\"indexed0: \", indexed0)\n",
    "    indexed1 = {}\n",
    "    for layer in indexed0.values():\n",
    "        for i, goal_id in enumerate(layer):\n",
    "            if goal_id > 0:\n",
    "                indexed1[goal_id] = i\n",
    "    # print(\"indexed1: \", indexed1)\n",
    "    new_opts = {\n",
    "        goal_id: opts | {\"col\": indexed1[goal_id]}\n",
    "        for goal_id, opts in rr.node_opts.items()\n",
    "    }\n",
    "    # print(new_opts)\n",
    "    return RenderResult(\n",
    "        rr.rows,\n",
    "        node_opts=new_opts,\n",
    "        select=rr.select,\n",
    "        roots=rr.roots\n",
    "    )"
   ]
  },
  {
   "cell_type": "code",
   "execution_count": 11,
   "metadata": {},
   "outputs": [],
   "source": [
    "rrr = RenderResult(rows=[RenderRow(goal_id=1, raw_id=1, name='node 1', is_open=True, is_switchable=False, edges=[(2, EdgeType.PARENT), (3, EdgeType.PARENT), (4, EdgeType.PARENT), (5, EdgeType.PARENT), (40, EdgeType.PARENT)], attrs={}), RenderRow(goal_id=2, raw_id=2, name='node 2', is_open=True, is_switchable=True, edges=[(43, EdgeType.PARENT), (44, EdgeType.PARENT)], attrs={}), RenderRow(goal_id=3, raw_id=3, name='node 3', is_open=True, is_switchable=False, edges=[(6, EdgeType.BLOCKER), (7, EdgeType.BLOCKER), (8, EdgeType.BLOCKER), (30, EdgeType.PARENT), (37, EdgeType.PARENT)], attrs={}), RenderRow(goal_id=4, raw_id=4, name='node 4', is_open=True, is_switchable=True, edges=[], attrs={}), RenderRow(goal_id=5, raw_id=5, name='node 5', is_open=True, is_switchable=False, edges=[(6, EdgeType.PARENT), (7, EdgeType.PARENT), (8, EdgeType.PARENT)], attrs={}), RenderRow(goal_id=6, raw_id=6, name='node 6', is_open=True, is_switchable=True, edges=[], attrs={}), RenderRow(goal_id=7, raw_id=7, name='node 7', is_open=True, is_switchable=False, edges=[(9, EdgeType.BLOCKER), (16, EdgeType.BLOCKER)], attrs={}), RenderRow(goal_id=8, raw_id=8, name='node 8', is_open=False, is_switchable=True, edges=[], attrs={}), RenderRow(goal_id=9, raw_id=9, name='node 9', is_open=True, is_switchable=False, edges=[(10, EdgeType.PARENT), (11, EdgeType.PARENT), (12, EdgeType.PARENT), (13, EdgeType.PARENT), (14, EdgeType.PARENT), (15, EdgeType.PARENT)], attrs={}), RenderRow(goal_id=10, raw_id=10, name='node 10', is_open=False, is_switchable=True, edges=[(51, EdgeType.BLOCKER)], attrs={}), RenderRow(goal_id=11, raw_id=11, name='node 11', is_open=False, is_switchable=True, edges=[(51, EdgeType.PARENT)], attrs={}), RenderRow(goal_id=12, raw_id=12, name='node 12', is_open=False, is_switchable=True, edges=[(51, EdgeType.BLOCKER)], attrs={}), RenderRow(goal_id=13, raw_id=13, name='node 13', is_open=False, is_switchable=True, edges=[(51, EdgeType.BLOCKER)], attrs={}), RenderRow(goal_id=14, raw_id=14, name='node 14', is_open=False, is_switchable=True, edges=[(51, EdgeType.BLOCKER)], attrs={}), RenderRow(goal_id=15, raw_id=15, name='node 15', is_open=True, is_switchable=True, edges=[(51, EdgeType.BLOCKER)], attrs={}), RenderRow(goal_id=16, raw_id=16, name='node 16', is_open=False, is_switchable=True, edges=[(17, EdgeType.PARENT), (18, EdgeType.PARENT), (19, EdgeType.PARENT), (20, EdgeType.PARENT), (24, EdgeType.PARENT), (25, EdgeType.PARENT), (26, EdgeType.PARENT), (27, EdgeType.PARENT)], attrs={}), RenderRow(goal_id=17, raw_id=17, name='node 17', is_open=False, is_switchable=False, edges=[], attrs={}), RenderRow(goal_id=18, raw_id=18, name='node 18', is_open=False, is_switchable=False, edges=[(23, EdgeType.PARENT)], attrs={}), RenderRow(goal_id=19, raw_id=19, name='node 19', is_open=False, is_switchable=False, edges=[(21, EdgeType.BLOCKER)], attrs={}), RenderRow(goal_id=20, raw_id=20, name='node 20', is_open=False, is_switchable=False, edges=[(21, EdgeType.PARENT), (22, EdgeType.PARENT)], attrs={}), RenderRow(goal_id=21, raw_id=21, name='node 21', is_open=False, is_switchable=False, edges=[(38, EdgeType.BLOCKER)], attrs={}), RenderRow(goal_id=22, raw_id=22, name='node 22', is_open=False, is_switchable=False, edges=[], attrs={}), RenderRow(goal_id=23, raw_id=23, name='node 23', is_open=False, is_switchable=False, edges=[(38, EdgeType.PARENT)], attrs={}), RenderRow(goal_id=24, raw_id=24, name='node 24', is_open=False, is_switchable=False, edges=[(18, EdgeType.BLOCKER)], attrs={}), RenderRow(goal_id=25, raw_id=25, name='node 25', is_open=False, is_switchable=False, edges=[(18, EdgeType.BLOCKER)], attrs={}), RenderRow(goal_id=26, raw_id=26, name='node 26', is_open=False, is_switchable=False, edges=[(18, EdgeType.BLOCKER)], attrs={}), RenderRow(goal_id=27, raw_id=27, name='node 27', is_open=False, is_switchable=False, edges=[(18, EdgeType.BLOCKER)], attrs={}), RenderRow(goal_id=28, raw_id=28, name='node 28', is_open=False, is_switchable=True, edges=[(29, EdgeType.PARENT)], attrs={}), RenderRow(goal_id=29, raw_id=29, name='node 29', is_open=False, is_switchable=False, edges=[(45, EdgeType.PARENT)], attrs={}), RenderRow(goal_id=30, raw_id=30, name='node 30', is_open=True, is_switchable=True, edges=[(31, EdgeType.PARENT), (32, EdgeType.PARENT), (33, EdgeType.PARENT), (34, EdgeType.PARENT), (35, EdgeType.PARENT), (36, EdgeType.PARENT)], attrs={}), RenderRow(goal_id=31, raw_id=31, name='node 31', is_open=False, is_switchable=True, edges=[], attrs={}), RenderRow(goal_id=32, raw_id=32, name='node 32', is_open=False, is_switchable=True, edges=[], attrs={}), RenderRow(goal_id=33, raw_id=33, name='node 33', is_open=False, is_switchable=True, edges=[], attrs={}), RenderRow(goal_id=34, raw_id=34, name='node 34', is_open=False, is_switchable=True, edges=[], attrs={}), RenderRow(goal_id=35, raw_id=35, name='node 35', is_open=False, is_switchable=True, edges=[], attrs={}), RenderRow(goal_id=36, raw_id=36, name='node 36', is_open=False, is_switchable=True, edges=[], attrs={}), RenderRow(goal_id=37, raw_id=37, name='node 37', is_open=True, is_switchable=False, edges=[(9, EdgeType.PARENT), (16, EdgeType.PARENT), (28, EdgeType.PARENT), (42, EdgeType.PARENT), (46, EdgeType.PARENT)], attrs={}), RenderRow(goal_id=38, raw_id=38, name='node 38', is_open=False, is_switchable=False, edges=[], attrs={}), RenderRow(goal_id=39, raw_id=39, name='node 39', is_open=False, is_switchable=True, edges=[], attrs={}), RenderRow(goal_id=40, raw_id=40, name='node 40', is_open=True, is_switchable=False, edges=[(39, EdgeType.PARENT), (41, EdgeType.BLOCKER)], attrs={}), RenderRow(goal_id=41, raw_id=41, name='node 41', is_open=True, is_switchable=True, edges=[], attrs={}), RenderRow(goal_id=42, raw_id=42, name='node 42', is_open=False, is_switchable=True, edges=[(43, EdgeType.BLOCKER), (44, EdgeType.BLOCKER), (49, EdgeType.PARENT)], attrs={}), RenderRow(goal_id=43, raw_id=43, name='node 43', is_open=False, is_switchable=False, edges=[], attrs={}), RenderRow(goal_id=44, raw_id=44, name='node 44', is_open=False, is_switchable=False, edges=[], attrs={}), RenderRow(goal_id=45, raw_id=45, name='node 45', is_open=False, is_switchable=False, edges=[], attrs={}), RenderRow(goal_id=46, raw_id=46, name='node 46', is_open=False, is_switchable=True, edges=[(47, EdgeType.PARENT), (48, EdgeType.PARENT)], attrs={}), RenderRow(goal_id=47, raw_id=47, name='node 47', is_open=False, is_switchable=False, edges=[], attrs={}), RenderRow(goal_id=48, raw_id=48, name='node 48', is_open=False, is_switchable=False, edges=[], attrs={}), RenderRow(goal_id=49, raw_id=49, name='node 49', is_open=False, is_switchable=False, edges=[(50, EdgeType.PARENT)], attrs={}), RenderRow(goal_id=50, raw_id=50, name='node 50', is_open=False, is_switchable=False, edges=[], attrs={}), RenderRow(goal_id=51, raw_id=51, name='node 51', is_open=False, is_switchable=False, edges=[], attrs={})], select=(1, 1), roots={1}, node_opts={1: {}, 2: {}, 3: {}, 4: {}, 5: {}, 6: {}, 7: {}, 8: {}, 9: {}, 10: {}, 11: {}, 12: {}, 13: {}, 14: {}, 15: {}, 16: {}, 17: {}, 18: {}, 19: {}, 20: {}, 21: {}, 22: {}, 23: {}, 24: {}, 25: {}, 26:{}, 27: {}, 28: {}, 29: {}, 30: {}, 31: {}, 32: {}, 33: {}, 34: {}, 35: {}, 36: {}, 37: {}, 38: {}, 39: {}, 40: {}, 41: {}, 42: {}, 43: {}, 44: {}, 45: {}, 46: {}, 47: {}, 48: {}, 49: {}, 50: {}, 51: {}})"
   ]
  },
  {
   "cell_type": "code",
   "execution_count": 12,
   "metadata": {},
   "outputs": [],
   "source": [
    "rrr1 = split_to_layers(rrr)\n",
    "rrr2 = adjust_horisontal(rrr1, 1.0)\n",
    "rrr3 = adjust_horisontal(rrr2, 0.5)\n",
    "rrr4 = normalize_cols(rrr3)"
   ]
  },
  {
   "cell_type": "markdown",
   "metadata": {},
   "source": [
    "## Vertical adjustment?"
   ]
  },
  {
   "cell_type": "markdown",
   "metadata": {},
   "source": [
    "We could also try to use force-based approach to swap some nodes between layers. It's a more complex task, comparing to horisontal adjustment. First, a number of goals on each layer could not excess the limit. So, we couldn't move a node up or down for free. Instead, it must exchange place with some another node on the target layer. Next, move of a single node affects all other nodes it's connected to. After a move, some of them could also leave current local optimum and could demand position recalculation. Effectively, we couldn't optimize vertical positions locally (opposing to horisontal positions), such activity must be global for the whole graph.\n",
    "\n",
    "Probably, a formula for the spring potential energy could be useful here:\n",
    "\n",
    "    E_p = kx^2 / 2\n",
    "\n",
    "Value of `k` may depend on the edge type: higher for `EdgeType.PARENT`, lower for `EdgeType.BLOCKER`. First, we calculate a \"current energy\" as a sum of \"energies\" of all edges (`x=0` when nodes are on the neighbour layers, `x=1` when there's a 2-layer difference, and so on). Then, we try to exchange _some_ node pair, recalculate energies for all connected edges and compare with the current value. Only if new value is lower than the current, exchange is approved.\n",
    "\n",
    "An interesting idea: what if adjustment follows selection? Instead of optimizing a whole tree, we could only try to perform adjustment to the currently selected node, making connected nodes a bit closer to it. Currently, rendering doesn't depend on selection."
   ]
  },
  {
   "cell_type": "code",
   "execution_count": 13,
   "metadata": {},
   "outputs": [],
   "source": [
    "def sign(x):\n",
    "    return 0 if x == 0 else (1 if x > 0 else -1)\n",
    "\n",
    "def force(vec, k):\n",
    "    return sign(vec) * k * (abs(vec) - 1) * (abs(vec) - 1)"
   ]
  },
  {
   "cell_type": "code",
   "execution_count": 14,
   "metadata": {},
   "outputs": [
    {
     "data": {
      "text/plain": [
       "{1: [(2, 1, 1.0, 0.0),\n",
       "  (3, 1, 1.0, 0.0),\n",
       "  (4, 1, 1.0, 0.0),\n",
       "  (5, 2, 1.0, 1.0),\n",
       "  (40, 2, 1.0, 1.0)],\n",
       " 2: [(1, -1, 1.0, -0.0), (43, 1, 1.0, 0.0), (44, 2, 1.0, 1.0)],\n",
       " 3: [(1, -1, 1.0, -0.0),\n",
       "  (6, 2, 0.6, 0.6),\n",
       "  (7, 2, 0.6, 0.6),\n",
       "  (8, 3, 0.6, 2.4),\n",
       "  (30, 3, 1.0, 4.0),\n",
       "  (37, 3, 1.0, 4.0)],\n",
       " 4: [(1, -1, 1.0, -0.0)],\n",
       " 5: [(1, -2, 1.0, -1.0), (6, 1, 1.0, 0.0), (7, 1, 1.0, 0.0), (8, 2, 1.0, 1.0)],\n",
       " 6: [(3, -2, 0.6, -0.6), (5, -1, 1.0, -0.0)],\n",
       " 7: [(3, -2, 0.6, -0.6),\n",
       "  (5, -1, 1.0, -0.0),\n",
       "  (9, 3, 0.6, 2.4),\n",
       "  (16, 4, 0.6, 5.3999999999999995)],\n",
       " 8: [(3, -3, 0.6, -2.4), (5, -2, 1.0, -1.0)],\n",
       " 9: [(7, -3, 0.6, -2.4),\n",
       "  (10, 5, 1.0, 16.0),\n",
       "  (11, 6, 1.0, 25.0),\n",
       "  (12, 6, 1.0, 25.0),\n",
       "  (13, 6, 1.0, 25.0),\n",
       "  (14, 7, 1.0, 36.0),\n",
       "  (15, 7, 1.0, 36.0),\n",
       "  (37, -2, 1.0, -1.0)],\n",
       " 10: [(9, -5, 1.0, -16.0), (51, 16, 0.6, 135.0)],\n",
       " 11: [(9, -6, 1.0, -25.0), (51, 15, 1.0, 196.0)],\n",
       " 12: [(9, -6, 1.0, -25.0), (51, 15, 0.6, 117.60000000000001)],\n",
       " 13: [(9, -6, 1.0, -25.0), (51, 15, 0.6, 117.60000000000001)],\n",
       " 14: [(9, -7, 1.0, -36.0), (51, 14, 0.6, 101.39999999999999)],\n",
       " 15: [(9, -7, 1.0, -36.0), (51, 14, 0.6, 101.39999999999999)],\n",
       " 16: [(7, -4, 0.6, -5.3999999999999995),\n",
       "  (17, 6, 1.0, 25.0),\n",
       "  (18, 7, 1.0, 36.0),\n",
       "  (19, 7, 1.0, 36.0),\n",
       "  (20, 7, 1.0, 36.0),\n",
       "  (24, 8, 1.0, 49.0),\n",
       "  (25, 8, 1.0, 49.0),\n",
       "  (26, 8, 1.0, 49.0),\n",
       "  (27, 9, 1.0, 64.0),\n",
       "  (37, -3, 1.0, -4.0)],\n",
       " 17: [(16, -6, 1.0, -25.0)],\n",
       " 18: [(16, -7, 1.0, -36.0),\n",
       "  (23, 15, 1.0, 196.0),\n",
       "  (24, 1, 0.6, 0.0),\n",
       "  (25, 1, 0.6, 0.0),\n",
       "  (26, 1, 0.6, 0.0),\n",
       "  (27, 2, 0.6, 0.6)],\n",
       " 19: [(16, -7, 1.0, -36.0), (21, 16, 0.6, 135.0)],\n",
       " 20: [(16, -7, 1.0, -36.0), (21, 16, 1.0, 225.0), (22, 16, 1.0, 225.0)],\n",
       " 21: [(19, -16, 0.6, -135.0), (20, -16, 1.0, -225.0), (38, 12, 0.6, 72.6)],\n",
       " 22: [(20, -16, 1.0, -225.0)],\n",
       " 23: [(18, -15, 1.0, -196.0), (38, 13, 1.0, 144.0)],\n",
       " 24: [(16, -8, 1.0, -49.0), (18, -1, 0.6, -0.0)],\n",
       " 25: [(16, -8, 1.0, -49.0), (18, -1, 0.6, -0.0)],\n",
       " 26: [(16, -8, 1.0, -49.0), (18, -1, 0.6, -0.0)],\n",
       " 27: [(16, -9, 1.0, -64.0), (18, -2, 0.6, -0.6)],\n",
       " 28: [(29, 11, 1.0, 100.0), (37, -6, 1.0, -25.0)],\n",
       " 29: [(28, -11, 1.0, -100.0), (45, 16, 1.0, 225.0)],\n",
       " 30: [(3, -3, 1.0, -4.0),\n",
       "  (31, 3, 1.0, 4.0),\n",
       "  (32, 3, 1.0, 4.0),\n",
       "  (33, 4, 1.0, 9.0),\n",
       "  (34, 4, 1.0, 9.0),\n",
       "  (35, 4, 1.0, 9.0),\n",
       "  (36, 5, 1.0, 16.0)],\n",
       " 31: [(30, -3, 1.0, -4.0)],\n",
       " 32: [(30, -3, 1.0, -4.0)],\n",
       " 33: [(30, -4, 1.0, -9.0)],\n",
       " 34: [(30, -4, 1.0, -9.0)],\n",
       " 35: [(30, -4, 1.0, -9.0)],\n",
       " 36: [(30, -5, 1.0, -16.0)],\n",
       " 37: [(3, -3, 1.0, -4.0),\n",
       "  (9, 2, 1.0, 1.0),\n",
       "  (16, 3, 1.0, 4.0),\n",
       "  (28, 6, 1.0, 25.0),\n",
       "  (42, 6, 1.0, 25.0),\n",
       "  (46, 6, 1.0, 25.0)],\n",
       " 38: [(21, -12, 0.6, -72.6), (23, -13, 1.0, -144.0)],\n",
       " 39: [(40, -4, 1.0, -9.0)],\n",
       " 40: [(1, -2, 1.0, -1.0), (39, 4, 1.0, 9.0), (41, 4, 0.6, 5.3999999999999995)],\n",
       " 41: [(40, -4, 0.6, -5.3999999999999995)],\n",
       " 42: [(37, -6, 1.0, -25.0),\n",
       "  (43, -8, 0.6, -29.400000000000002),\n",
       "  (44, -7, 0.6, -21.599999999999998),\n",
       "  (49, 12, 1.0, 121.0)],\n",
       " 43: [(2, -1, 1.0, -0.0), (42, 8, 0.6, 29.400000000000002)],\n",
       " 44: [(2, -2, 1.0, -1.0), (42, 7, 0.6, 21.599999999999998)],\n",
       " 45: [(29, -16, 1.0, -225.0)],\n",
       " 46: [(37, -6, 1.0, -25.0), (47, 12, 1.0, 121.0), (48, 12, 1.0, 121.0)],\n",
       " 47: [(46, -12, 1.0, -121.0)],\n",
       " 48: [(46, -12, 1.0, -121.0)],\n",
       " 49: [(42, -12, 1.0, -121.0), (50, 15, 1.0, 196.0)],\n",
       " 50: [(49, -15, 1.0, -196.0)],\n",
       " 51: [(10, -16, 0.6, -135.0),\n",
       "  (11, -15, 1.0, -196.0),\n",
       "  (12, -15, 0.6, -117.60000000000001),\n",
       "  (13, -15, 0.6, -117.60000000000001),\n",
       "  (14, -14, 0.6, -101.39999999999999),\n",
       "  (15, -14, 0.6, -101.39999999999999)]}"
      ]
     },
     "execution_count": 14,
     "metadata": {},
     "output_type": "execute_result"
    }
   ],
   "source": [
    "goal_layers = {t[0]: t[1]['row'] for t in rrr4.goals()}\n",
    "goal_connects = {g_id: [] for g_id in goal_layers}\n",
    "for row in rrr4.rows:\n",
    "    for e in row.edges:\n",
    "        my_id = row.goal_id\n",
    "        my_layer = goal_layers[my_id]\n",
    "        strength = 1.0 if e[1] == EdgeType.PARENT else 0.6\n",
    "        its_id = e[0]\n",
    "        its_layer = goal_layers[its_id]\n",
    "        goal_connects[my_id].append((its_id, its_layer - my_layer, strength, force(its_layer - my_layer, strength)))\n",
    "        goal_connects[e[0]].append((my_id, my_layer - its_layer, strength, force(my_layer - its_layer, strength)))\n",
    "\n",
    "goal_connects"
   ]
  },
  {
   "cell_type": "code",
   "execution_count": 15,
   "metadata": {},
   "outputs": [
    {
     "name": "stdout",
     "output_type": "stream",
     "text": [
      "forces: {1: 2.0, 2: 1.0, 3: 11.6, 4: 0.0, 5: 0.0, 6: -0.6, 7: 7.199999999999999, 8: -3.4, 9: 159.6, 10: 119.0, 11: 171.0, 12: 92.60000000000001, 13: 92.60000000000001, 14: 65.39999999999999, 15: 65.39999999999999, 16: 334.6, 17: -25.0, 18: 160.6, 19: 99.0, 20: 414.0, 21: -287.4, 22: -225.0, 23: -52.0, 24: -49.0, 25: -49.0, 26: -49.0, 27: -64.6, 28: 75.0, 29: 125.0, 30: 47.0, 31: -4.0, 32: -4.0, 33: -9.0, 34: -9.0, 35: -9.0, 36: -16.0, 37: 76.0, 38: -216.6, 39: -9.0, 40: 13.399999999999999, 41: -5.3999999999999995, 42: 45.0, 43: 29.400000000000002, 44: 20.599999999999998, 45: -225.0, 46: 217.0, 47: -121.0, 48: -121.0, 49: 75.0, 50: -196.0, 51: -769.0}\n",
      "total energy: 5038.0\n"
     ]
    }
   ],
   "source": [
    "forces = {k: sum(t[-1] for t in v) for k, v in goal_connects.items()}\n",
    "print(\"forces:\", forces)\n",
    "print(\"total energy:\", sum(abs(v) for v in forces.values()))"
   ]
  }
 ],
 "metadata": {
  "kernelspec": {
   "display_name": "Python 3 (ipykernel)",
   "language": "python",
   "name": "python3"
  },
  "language_info": {
   "codemirror_mode": {
    "name": "ipython",
    "version": 3
   },
   "file_extension": ".py",
   "mimetype": "text/x-python",
   "name": "python",
   "nbconvert_exporter": "python",
   "pygments_lexer": "ipython3",
   "version": "3.9.6"
  },
  "vscode": {
   "interpreter": {
    "hash": "3ad933181bd8a04b432d3370b9dc3b0662ad032c4dfaa4e4f1596c548f763858"
   }
  }
 },
 "nbformat": 4,
 "nbformat_minor": 4
}
