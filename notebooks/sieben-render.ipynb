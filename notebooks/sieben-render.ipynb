{
 "cells": [
  {
   "cell_type": "markdown",
   "metadata": {},
   "source": [
    "# SiebenApp Rendering v3.0"
   ]
  },
  {
   "cell_type": "markdown",
   "metadata": {},
   "source": [
    "A short SiebenApp rendering history.\n",
    "\n",
    "* v1.0: use `GraphViz` to render all nodes and draw a picture.\n",
    "* v2.0: rewrite rendering from scratch using Sugiyama method.\n",
    "* v2.5: add few custom hacks to Sugiyama method (e.g., enforce width limit).\n",
    "* v3.0: this approach.\n"
   ]
  },
  {
   "cell_type": "code",
   "execution_count": 2,
   "metadata": {},
   "outputs": [],
   "source": [
    "# Some example graph\n",
    "edges = {\n",
    "    1: [8, 10, 12, 13],\n",
    "    2: [5],\n",
    "    3: [6],\n",
    "    4: [],\n",
    "    5: [],\n",
    "    6: [],\n",
    "    7: [],\n",
    "    8: [],\n",
    "    9: [],\n",
    "    10: [11],\n",
    "    11: [3],\n",
    "    12: [2, 4, 14],\n",
    "    13: [7, 9],\n",
    "    14: [],\n",
    "}"
   ]
  },
  {
   "cell_type": "code",
   "execution_count": 3,
   "metadata": {},
   "outputs": [],
   "source": [
    "# Rendering defaults\n",
    "WIDTH = 3"
   ]
  },
  {
   "cell_type": "markdown",
   "metadata": {},
   "source": [
    "Let's visualize a graph."
   ]
  },
  {
   "cell_type": "code",
   "execution_count": 4,
   "metadata": {},
   "outputs": [],
   "source": [
    "import matplotlib.pyplot as plt"
   ]
  },
  {
   "cell_type": "code",
   "execution_count": 5,
   "metadata": {},
   "outputs": [
    {
     "data": {
      "image/png": "[encoded data removed]",
      "text/plain": [
       "<Figure size 640x480 with 1 Axes>"
      ]
     },
     "metadata": {},
     "output_type": "display_data"
    }
   ],
   "source": [
    "# Tree structure and not-switchable nodes\n",
    "plt.plot([3, 2, 1, 1, 1], [1, 2, 3, 4, 5], 'ro-')\n",
    "plt.plot([3, 3, 2], [1, 2, 3], 'ro-')\n",
    "plt.plot([3, 3], [2, 3], 'ro-')\n",
    "plt.plot([3, 4, 4], [2, 3, 4], 'ro-')\n",
    "plt.plot([3, 4], [1, 2], 'ro-')\n",
    "plt.plot([3, 5, 5], [1, 2, 3], 'ro-')\n",
    "plt.plot([5, 6], [2, 3], 'ro-')\n",
    "# Mark switchable nodes\n",
    "plt.plot([1, 2, 3, 4, 4, 5, 6], [5, 3, 3, 4, 2, 3, 3], 'bo')\n",
    "# Draw labels\n",
    "plt.text(3.2, 1, \"1\"); plt.text(4.2, 3, \"2\"); plt.text(1.2, 4, \"3\")\n",
    "plt.text(2.2, 3, \"4\"); plt.text(4.2, 4, \"5\"); plt.text(1.2, 5, \"6\")\n",
    "plt.text(6.2, 3, \"7\"); plt.text(4.2, 2, \"8\"); plt.text(5.2, 3, \"9\")\n",
    "plt.text(2.2, 2, \"10\"); plt.text(1.2, 3, \"11\"); plt.text(3.2, 2, \"12\")\n",
    "plt.text(5.2, 2, \"13\"); plt.text(3.2, 3, \"14\")\n",
    "# Draw \"tube\" with width 3\n",
    "plt.plot([1.5, 1.5], [0.5, 1.5], 'g-', linewidth=3.0)\n",
    "plt.plot([4.5, 4.5], [0.5, 1.5], 'g-', linewidth=3.0)\n",
    "plt.plot([1.5, 4.5], [1.5, 1.5], 'g-', linewidth=0.3)\n",
    "plt.show()"
   ]
  },
  {
   "cell_type": "markdown",
   "metadata": {},
   "source": [
    "First, we want to place all nodes (goals) onto layers with maximum width of `WIDTH`. We start from `root` and move on edges."
   ]
  },
  {
   "cell_type": "code",
   "execution_count": 12,
   "metadata": {},
   "outputs": [],
   "source": [
    "from typing import Dict, List\n",
    "\n",
    "def tube(edges: Dict[int, List[int]], roots: List[int], layers: List[List[int]]):\n",
    "    new_layer: List[int] = roots[:WIDTH]\n",
    "    new_roots: List[int] = roots[len(new_layer):] + [e for n in new_layer for e in edges[n]]\n",
    "    return new_roots, layers + [new_layer]"
   ]
  },
  {
   "cell_type": "code",
   "execution_count": 14,
   "metadata": {},
   "outputs": [
    {
     "data": {
      "text/plain": [
       "[[1], [8, 10, 12], [13, 11, 2], [4, 14, 7], [9, 3, 5], [6]]"
      ]
     },
     "execution_count": 14,
     "metadata": {},
     "output_type": "execute_result"
    }
   ],
   "source": [
    "r = [1]\n",
    "l = []\n",
    "\n",
    "while r:\n",
    "    r, l = tube(edges, r, l)\n",
    "\n",
    "l"
   ]
  },
  {
   "cell_type": "markdown",
   "metadata": {},
   "source": [
    "Let's visualise it as is."
   ]
  }
 ],
 "metadata": {
  "kernelspec": {
   "display_name": "Python 3.10.4 64-bit",
   "language": "python",
   "name": "python3"
  },
  "language_info": {
   "codemirror_mode": {
    "name": "ipython",
    "version": 3
   },
   "file_extension": ".py",
   "mimetype": "text/x-python",
   "name": "python",
   "nbconvert_exporter": "python",
   "pygments_lexer": "ipython3",
   "version": "3.10.4"
  },
  "orig_nbformat": 4,
  "vscode": {
   "interpreter": {
    "hash": "3ad933181bd8a04b432d3370b9dc3b0662ad032c4dfaa4e4f1596c548f763858"
   }
  }
 },
 "nbformat": 4,
 "nbformat_minor": 2
}
